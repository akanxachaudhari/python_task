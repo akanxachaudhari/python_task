{
 "cells": [
  {
   "cell_type": "code",
   "execution_count": 1,
   "metadata": {},
   "outputs": [
    {
     "name": "stdout",
     "output_type": "stream",
     "text": [
      "You are eligible to vote!\n"
     ]
    }
   ],
   "source": [
    "age= int(input('enter your age'))\n",
    "if age>= 18:\n",
    "    print('You are eligible to vote!')"
   ]
  },
  {
   "cell_type": "code",
   "execution_count": 3,
   "metadata": {},
   "outputs": [
    {
     "name": "stdout",
     "output_type": "stream",
     "text": [
      "B grade\n"
     ]
    }
   ],
   "source": [
    "percentage = int(input('Enter your percentage:'))\n",
    "if percentage > 90: \n",
    "    print('A grade')\n",
    "    \n",
    "elif percentage > 70: \n",
    "    print('B grade')\n",
    "    \n",
    "elif percentage < 70: \n",
    "    print('C grade')"
   ]
  },
  {
   "cell_type": "code",
   "execution_count": 4,
   "metadata": {},
   "outputs": [
    {
     "name": "stdout",
     "output_type": "stream",
     "text": [
      "warm\n"
     ]
    }
   ],
   "source": [
    "tempertur =int(input('enter your temp'))\n",
    "if tempertur < 20:\n",
    "    print('cold')\n",
    "elif tempertur >20:\n",
    "    print('warm')"
   ]
  },
  {
   "cell_type": "code",
   "execution_count": 5,
   "metadata": {},
   "outputs": [
    {
     "name": "stdout",
     "output_type": "stream",
     "text": [
      "You can have discount\n"
     ]
    }
   ],
   "source": [
    "age = int(input('enter your age'))\n",
    "if age < 18 or age>60:\n",
    "    print('You can have discount')\n",
    "    \n",
    "else:\n",
    "    print('You cannot have discount')"
   ]
  },
  {
   "cell_type": "code",
   "execution_count": 9,
   "metadata": {},
   "outputs": [
    {
     "name": "stdout",
     "output_type": "stream",
     "text": [
      "sorry\n"
     ]
    }
   ],
   "source": [
    "age = int(input('enter your age and marks '))\n",
    "if age < 18 and has_marks>70:\n",
    "    print('congratulation')    \n",
    "else:\n",
    "    print('sorry')"
   ]
  }
 ],
 "metadata": {
  "kernelspec": {
   "display_name": "Python 3",
   "language": "python",
   "name": "python3"
  },
  "language_info": {
   "codemirror_mode": {
    "name": "ipython",
    "version": 3
   },
   "file_extension": ".py",
   "mimetype": "text/x-python",
   "name": "python",
   "nbconvert_exporter": "python",
   "pygments_lexer": "ipython3",
   "version": "3.13.1"
  }
 },
 "nbformat": 4,
 "nbformat_minor": 2
}
