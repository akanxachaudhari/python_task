{
 "cells": [
  {
   "cell_type": "code",
   "execution_count": 17,
   "metadata": {},
   "outputs": [
    {
     "name": "stdout",
     "output_type": "stream",
     "text": [
      "Hello akanxa, i hope you are doing good today. my age is 27,I am from india\n"
     ]
    }
   ],
   "source": [
    "student=name = input('Enter your name: ')\n",
    "age= 27\n",
    "country= input('enter your country')\n",
    "print(f\"Hello {name}, i hope you are doing good today. my age is {age},I am from {country}\")\n",
    "\n",
    "    "
   ]
  },
  {
   "cell_type": "code",
   "execution_count": 18,
   "metadata": {},
   "outputs": [
    {
     "name": "stdout",
     "output_type": "stream",
     "text": [
      "{'name': 'John', 'city': 'New York'}\n"
     ]
    }
   ],
   "source": [
    "info = {\n",
    "    \"name\": \"John\",\n",
    "      \"city\": \"New York\"}\n",
    "print(info)"
   ]
  },
  {
   "cell_type": "code",
   "execution_count": 20,
   "metadata": {},
   "outputs": [
    {
     "name": "stdout",
     "output_type": "stream",
     "text": [
      "Make: jeep\n",
      "Model: truck\n"
     ]
    }
   ],
   "source": [
    "# Creating a dictionary called car\n",
    "car = {\n",
    "    \"make\": \"jeep\",\n",
    "    \"model\": \"truck\",\n",
    "    \"year\": 2020\n",
    "}\n",
    "\n",
    "# Printing the car's make and model\n",
    "print(\"Make:\", car[\"make\"])\n",
    "print(\"Model:\", car[\"model\"])\n"
   ]
  },
  {
   "cell_type": "code",
   "execution_count": 21,
   "metadata": {},
   "outputs": [
    {
     "name": "stdout",
     "output_type": "stream",
     "text": [
      "{'title': 'bahubali', 'director': 'raja moli ', 'release_year': 2010}\n"
     ]
    }
   ],
   "source": [
    "movie = {\n",
    "    \"title\": \"bahubali\",\n",
    "    \"director\": \"raja moli\",\n",
    "    \"release_year\": 2010\n",
    "}\n",
    "movie[\"director\"] = \"raja moli \"\n",
    "print(movie)"
   ]
  },
  {
   "cell_type": "code",
   "execution_count": 22,
   "metadata": {},
   "outputs": [
    {
     "name": "stdout",
     "output_type": "stream",
     "text": [
      "My height is 5.6 meters and I weigh 60 kilograms.\n"
     ]
    }
   ],
   "source": [
    "height =5.6 \n",
    "weight = 60   \n",
    "print(f\"My height is {height} meters and I weigh {weight} kilograms.\")\n"
   ]
  },
  {
   "cell_type": "code",
   "execution_count": 23,
   "metadata": {},
   "outputs": [
    {
     "name": "stdout",
     "output_type": "stream",
     "text": [
      "The sum of 5 and 10 is 15.\n"
     ]
    }
   ],
   "source": [
    "num1 = 5\n",
    "num2 = 10\n",
    "print(f\"The sum of {num1} and {num2} is {num1 + num2}.\")\n"
   ]
  },
  {
   "cell_type": "code",
   "execution_count": 24,
   "metadata": {},
   "outputs": [
    {
     "name": "stdout",
     "output_type": "stream",
     "text": [
      "First element: 10\n",
      "Last element: 50\n"
     ]
    }
   ],
   "source": [
    "numbers = (10, 20, 30, 40, 50)\n",
    "print(\"First element:\", numbers[0])\n",
    "print(\"Last element:\", numbers[-1])"
   ]
  }
 ],
 "metadata": {
  "kernelspec": {
   "display_name": "Python 3",
   "language": "python",
   "name": "python3"
  },
  "language_info": {
   "codemirror_mode": {
    "name": "ipython",
    "version": 3
   },
   "file_extension": ".py",
   "mimetype": "text/x-python",
   "name": "python",
   "nbconvert_exporter": "python",
   "pygments_lexer": "ipython3",
   "version": "3.13.1"
  }
 },
 "nbformat": 4,
 "nbformat_minor": 2
}
