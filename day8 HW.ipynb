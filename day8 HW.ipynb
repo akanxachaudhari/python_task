{
 "cells": [
  {
   "cell_type": "code",
   "execution_count": 1,
   "metadata": {},
   "outputs": [
    {
     "name": "stdout",
     "output_type": "stream",
     "text": [
      "The square root of 36 is 6\n"
     ]
    }
   ],
   "source": [
    "import math\n",
    "\n",
    "number = 36\n",
    "\n",
    "result = int(math.sqrt(number))\n",
    "\n",
    "print(f'The square root of {number} is {result}')"
   ]
  },
  {
   "cell_type": "code",
   "execution_count": 2,
   "metadata": {},
   "outputs": [
    {
     "name": "stdout",
     "output_type": "stream",
     "text": [
      "3 raised to the power of 4 is 81\n"
     ]
    }
   ],
   "source": [
    "base = 3\n",
    "exponent = 4\n",
    "\n",
    "result = int(math.pow(base, exponent))\n",
    "print(f\"{base} raised to the power of {exponent} is {result}\")"
   ]
  },
  {
   "cell_type": "code",
   "execution_count": 5,
   "metadata": {},
   "outputs": [
    {
     "name": "stdout",
     "output_type": "stream",
     "text": [
      "Generated password: m{QNg`Kt\n"
     ]
    }
   ],
   "source": [
    "import random\n",
    "import string\n",
    "characters = string.ascii_letters + string.digits + string.punctuation\n",
    "password = ''.join(random.choice(characters) for _ in range(8))\n",
    "print(\"Generated password:\", password)\n"
   ]
  },
  {
   "cell_type": "code",
   "execution_count": 6,
   "metadata": {},
   "outputs": [
    {
     "name": "stdout",
     "output_type": "stream",
     "text": [
      "['Yellow', 'White', 'Blue']\n"
     ]
    }
   ],
   "source": [
    "list= [\"Red\", \"Green\", \"Blue\", \"Yellow\", \"Black\", \"White\"]\n",
    "random_list = random.sample(list, 3)\n",
    "print(random_list)"
   ]
  },
  {
   "cell_type": "code",
   "execution_count": 8,
   "metadata": {},
   "outputs": [
    {
     "name": "stdout",
     "output_type": "stream",
     "text": [
      "Dice 1: 2, Dice 2: 5, Total: 7\n"
     ]
    }
   ],
   "source": [
    "dice1 = random.randint(1, 6)\n",
    "dice2 = random.randint(1, 6)\n",
    "total = dice1 + dice2\n",
    "print(f\"Dice 1: {dice1}, Dice 2: {dice2}, Total: {total}\")"
   ]
  },
  {
   "cell_type": "code",
   "execution_count": 9,
   "metadata": {},
   "outputs": [
    {
     "name": "stdout",
     "output_type": "stream",
     "text": [
      "Suggested cuisine for you: Indian\n"
     ]
    }
   ],
   "source": [
    "cuisines = [\"Italian\", \"Chinese\", \"Mexican\", \"Indian\"]\n",
    "new_cuisine = random.choice(cuisines)\n",
    "print(f\"Suggested cuisine for you: {new_cuisine}\")"
   ]
  },
  {
   "cell_type": "code",
   "execution_count": null,
   "metadata": {},
   "outputs": [],
   "source": []
  }
 ],
 "metadata": {
  "kernelspec": {
   "display_name": "Python 3",
   "language": "python",
   "name": "python3"
  },
  "language_info": {
   "codemirror_mode": {
    "name": "ipython",
    "version": 3
   },
   "file_extension": ".py",
   "mimetype": "text/x-python",
   "name": "python",
   "nbconvert_exporter": "python",
   "pygments_lexer": "ipython3",
   "version": "3.13.1"
  }
 },
 "nbformat": 4,
 "nbformat_minor": 2
}
