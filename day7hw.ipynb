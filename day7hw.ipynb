{
 "cells": [
  {
   "cell_type": "code",
   "execution_count": 1,
   "metadata": {},
   "outputs": [
    {
     "name": "stdout",
     "output_type": "stream",
     "text": [
      "The price of an apple is: 4.6\n"
     ]
    }
   ],
   "source": [
    "fruit_prices = {\n",
    "    \"apple\": 4.6,\n",
    "    \"banana\": .52,\n",
    "    \"cherry\": 3,\n",
    "    \"orange\": 1.75\n",
    "}\n",
    "print(\"The price of an apple is:\", fruit_prices[\"apple\"])"
   ]
  },
  {
   "cell_type": "code",
   "execution_count": 2,
   "metadata": {},
   "outputs": [
    {
     "name": "stdout",
     "output_type": "stream",
     "text": [
      "Marks in English: 78\n"
     ]
    }
   ],
   "source": [
    "student_marks = {\n",
    "    \"Math\": 85,\n",
    "    \"English\": 78,\n",
    "    \"Science\": 92\n",
    "}\n",
    "english_marks = student_marks.get(\"English\")\n",
    "print(\"Marks in English:\", english_marks)"
   ]
  },
  {
   "cell_type": "code",
   "execution_count": 3,
   "metadata": {},
   "outputs": [
    {
     "name": "stdout",
     "output_type": "stream",
     "text": [
      "{'John': 60000, 'Alice': 55000, 'Bob': 45000}\n"
     ]
    }
   ],
   "source": [
    "employee_salaries = {\n",
    "    \"John\": 50000,\n",
    "    \"Alice\": 55000,\n",
    "    \"Bob\": 45000\n",
    "}\n",
    "employee_salaries.update({\"John\": 60000})\n",
    "print(employee_salaries)"
   ]
  },
  {
   "cell_type": "code",
   "execution_count": 4,
   "metadata": {},
   "outputs": [
    {
     "name": "stdout",
     "output_type": "stream",
     "text": [
      "{1, 2, 3, 4}\n"
     ]
    }
   ],
   "source": [
    "set1 = {1, 2, 3}\n",
    "set2 = {2,3,4}\n",
    "\n",
    "result = set1.union(set2)\n",
    "print(result) "
   ]
  },
  {
   "cell_type": "code",
   "execution_count": 5,
   "metadata": {},
   "outputs": [
    {
     "name": "stdout",
     "output_type": "stream",
     "text": [
      "{10, 20, '40', 30}\n"
     ]
    }
   ],
   "source": [
    "number= {10,20,30}\n",
    "number.add('40')\n",
    "print(number)"
   ]
  },
  {
   "cell_type": "code",
   "execution_count": 7,
   "metadata": {},
   "outputs": [
    {
     "name": "stdout",
     "output_type": "stream",
     "text": [
      "{10, 30}\n"
     ]
    }
   ],
   "source": [
    "number= {10,20,30}\n",
    "number.remove(20)\n",
    "print(number)"
   ]
  },
  {
   "cell_type": "code",
   "execution_count": 8,
   "metadata": {},
   "outputs": [
    {
     "name": "stdout",
     "output_type": "stream",
     "text": [
      "{1, 2, 3, 4}\n"
     ]
    }
   ],
   "source": [
    "set1 = {1, 2,}\n",
    "set2 = {1,2,3,4}\n",
    "print(result) "
   ]
  },
  {
   "cell_type": "code",
   "execution_count": 11,
   "metadata": {},
   "outputs": [
    {
     "name": "stdout",
     "output_type": "stream",
     "text": [
      "94\n"
     ]
    }
   ],
   "source": [
    "import random\n",
    "\n",
    "random_integer = random.randint(1, 100)\n",
    "print(random_integer)"
   ]
  }
 ],
 "metadata": {
  "kernelspec": {
   "display_name": "Python 3",
   "language": "python",
   "name": "python3"
  },
  "language_info": {
   "codemirror_mode": {
    "name": "ipython",
    "version": 3
   },
   "file_extension": ".py",
   "mimetype": "text/x-python",
   "name": "python",
   "nbconvert_exporter": "python",
   "pygments_lexer": "ipython3",
   "version": "3.13.1"
  }
 },
 "nbformat": 4,
 "nbformat_minor": 2
}
